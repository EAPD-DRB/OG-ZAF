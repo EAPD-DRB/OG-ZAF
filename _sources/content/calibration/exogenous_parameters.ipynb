{
 "cells": [
  {
   "cell_type": "markdown",
   "id": "cc2641eb",
   "metadata": {},
   "source": [
    "(Chap_Exog)=\n",
    "# Exogenous Parameters\n",
    "\n",
    "  [TODO: This chapter needs heavy updating. Would be nice to do something similar to API chapter. But it is also nice to have references and descriptions as in the table below.]\n",
    "\n",
    "  In this chapter, list the exogenous inputs to the model, options, and where the values come from (weak calibration vs. strong calibration). Point to the respective chapters for some of the inputs. Mention the code in [`default_parameters.json`](https://github.com/PSLmodels/OG-USA/blob/master/ogusa/default_parameters.json) and [`parameters.py`](https://github.com/PSLmodels/OG-USA/blob/master/ogusa/parameters.py).\n",
    "\n",
    "  <!-- +++\n",
    "  ```{code-cell} ogusa-dev\n",
    "  :tags: [hide-cell]\n",
    "  from myst_nb import glue\n",
    "  import ogusa.parameter_tables as pt\n",
    "  from ogusa import Specifications\n",
    "  p = Specifications()\n",
    "  table = pt.param_table(p, table_format=None, path=None)\n",
    "  glue(\"param_table\", table, display=False)\n",
    "  ```\n",
    "  -->\n",
    "\n",
    "  ```{list-table} **List of exogenous parameters and baseline calibration values.**\n",
    "  :header-rows: 1\n",
    "  :name: TabExogVars\n",
    "  * - **Symbol**\n",
    "    - **Description**\n",
    "    - **Value**\n",
    "  * - $S$\n",
    "    - Maximum periods in economically active household life\n",
    "    - 80\n",
    "  * - $E$\n",
    "    - Number of periods of youth economically outside the model\n",
    "    - $\\text{round} \\frac{S}{4}$=20\n",
    "  * - $R$\n",
    "    - Retirement age (period)\n",
    "    - $E + \\text{round} (\\frac{9}{16} S) = 65$\n",
    "  * - $T_1$\n",
    "    - Number of periods to steady state for initial time path guesses\n",
    "    - 160\n",
    "  * - $T_2$\n",
    "    - Maximum number of periods to steady state for nonsteady-state equilibrium\n",
    "    - 160\n",
    "  * - $\\nu$\n",
    "    - Dampening parameter for TPI\n",
    "    - 0.4\n",
    "  * - ${ \\{ { \\{ \\omega_{s,0} \\} }_{s=1}^{E+S}  \\}}_{t=0}^{T_2 + S - 1}$\n",
    "    - Initial population distribution by age\n",
    "    - (see Chap. {ref}`Chap_Demog`)\n",
    "  * - ${ \\{ f_s \\}}_{s=1}^{E+S}$\n",
    "    - Fertility rates by age\n",
    "    - (see Sec. {ref}`SecDemogFert`)\n",
    "  * - ${ \\{ i_s \\}}_{s=1}^{E+S}$\n",
    "    - Immigration rates by age\n",
    "    - (see Sec. {ref}`SecDemogMort`)\n",
    "  * - ${ \\{ \\rho_s \\}}_{s=0}^{E+S}$\n",
    "    - Mortality rates by age\n",
    "    - (see Sec. {ref}`SecDemogImm`)\n",
    "  ```"
   ]
  }
 ],
 "metadata": {
  "jupytext": {
   "text_representation": {
    "extension": ".md",
    "format_name": "myst",
    "format_version": "0.8",
    "jupytext_version": "1.4.1"
   }
  },
  "kernelspec": {
   "display_name": "Python 3",
   "language": "python",
   "name": "ogusa-dev"
  },
  "source_map": [
   12
  ]
 },
 "nbformat": 4,
 "nbformat_minor": 5
}