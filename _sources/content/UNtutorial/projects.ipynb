{
 "cells": [
  {
   "cell_type": "markdown",
   "id": "15e5a160",
   "metadata": {},
   "source": [
    "(Chap_UNtutor_projects)=\n",
    "# Research Projects\n",
    "\n",
    "(Sec_UNtutor_finalprojects)=\n",
    "## Final projects\n",
    "This sections contains the final project descriptions and materials in {numref}`table-final-proj`. These projects were chosen from the broader set of projects listed in {numref}`table-broad-proj`.\n",
    "\n",
    "```{list-table} UN OG-ZAF Final Projects from 5-day Training\n",
    ":header-rows: 1\n",
    ":name: table-final-proj\n",
    "\n",
    "* - Number\n",
    "  - Project Description\n",
    "  - Materials\n",
    "* - 1\n",
    "  - Social development –- specifically education\n",
    "  -\n",
    "* - 2\n",
    "  - VAT increase, distributional impacts, including intergenerational impacts and poverty\n",
    "  -\n",
    "* - 3\n",
    "  - Fiscal sustainability, national health insurance. Also fiscal consolidation with VAT increase, spending cut.\n",
    "  -\n",
    "* - 4\n",
    "  - Shock to international capital flows (increase or decrease)\n",
    "  -\n",
    "* - 5\n",
    "  - Productivity increase, TFP shock. From regs or load-shedding\n",
    "  -\n",
    "```\n",
    "\n",
    "(Sec_UNtutor_broadprojects)=\n",
    "## Broad list of projects\n",
    "This sections contains the broad set of project descriptions brainstormed by the group during the 5-day training in March 2025.\n",
    "\n",
    "```{list-table} UN OG-ZAF Broad Projects List from 5-day Training\n",
    ":header-rows: 1\n",
    ":name: table-broad-proj\n",
    "\n",
    "* - Number\n",
    "  - Project Description\n",
    "* - 1\n",
    "  - Social development –- specifically education\n",
    "* - 2\n",
    "  - Social transfers, education funding, UBI\n",
    "* - 3\n",
    "  - Government spending on education on labor productivity\n",
    "* - 4\n",
    "  - VAT increase, distributional impacts, including intergenerational impacts and poverty\n",
    "* - 5\n",
    "  - Education spending on crime, how to model crime. As a tax on consumption goods? Government spending on law enforcement. TFP in some sectors subject to crime.\n",
    "* - 6\n",
    "  - Changes in public pensions – esp uprating public worker salaries and its effect on pension payouts and spending/debt. Can we apply to certain type $j$s?\n",
    "* - 7\n",
    "  - Green tax – tax on carbon intensive/polluting industries\n",
    "* - 8\n",
    "  - Fiscal sustainability, national health insurance. Also fiscal consolidation with VAT increase, spending cut.\n",
    "* - 9\n",
    "  - Monetary policy changes as manifest through real interest rates on government debt\n",
    "* - 10\n",
    "  - Shock to international capital flows (increase or decrease)\n",
    "* - 11\n",
    "  - Productivity increase, TFP shock. From regs or load-shedding\n",
    "* - 12\n",
    "  - AI – labor productivity/capital-labor subs, TFP?\n",
    "* - 13\n",
    "  - Contribution tax, or wealth tax\n",
    "* - 14\n",
    "  - Green transition spending. Affects public spending, but also industry TFP\n",
    "```"
   ]
  }
 ],
 "metadata": {
  "jupytext": {
   "formats": "md:myst",
   "text_representation": {
    "extension": ".md",
    "format_name": "myst"
   }
  },
  "kernelspec": {
   "display_name": "Python 3",
   "language": "python",
   "name": "python3"
  },
  "language_info": {
   "codemirror_mode": {
    "name": "ipython",
    "version": 3
   },
   "file_extension": ".py",
   "mimetype": "text/x-python",
   "name": "python",
   "nbconvert_exporter": "python",
   "pygments_lexer": "ipython3",
   "version": "3.12.10"
  },
  "source_map": [
   11
  ]
 },
 "nbformat": 4,
 "nbformat_minor": 5
}